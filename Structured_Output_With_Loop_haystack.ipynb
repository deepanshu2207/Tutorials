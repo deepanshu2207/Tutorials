{
  "cells": [
    {
      "cell_type": "markdown",
      "metadata": {
        "id": "view-in-github",
        "colab_type": "text"
      },
      "source": [
        "<a href=\"https://colab.research.google.com/github/deepanshu2207/Tutorials/blob/master/Structured_Output_With_Loop_haystack.ipynb\" target=\"_parent\"><img src=\"https://colab.research.google.com/assets/colab-badge.svg\" alt=\"Open In Colab\"/></a>"
      ]
    },
    {
      "cell_type": "markdown",
      "metadata": {
        "id": "AVBtOVlNJ51C"
      },
      "source": [
        "# Tutorial: Generating Structured Output with Loop-Based Auto-Correction\n",
        "\n",
        "- **Level**: Intermediate\n",
        "- **Time to complete**: 15 minutes\n",
        "- **Prerequisites**: You must have an API key from an active OpenAI account as this tutorial is using the gpt-3.5-turbo model by OpenAI.\n",
        "- **Components Used**: `PromptBuilder`, `OpenAIGenerator`, `OutputValidator` (Custom component)\n",
        "- **Goal**: After completing this tutorial, you will have built a system that extracts unstructured data, puts it in a JSON schema, and automatically corrects errors in the JSON output from a large language model (LLM) to make sure it follows the specified structure.\n",
        "\n",
        "> This tutorial uses Haystack 2.0 Beta. To learn more, read the [Haystack 2.0 Beta announcement](https://haystack.deepset.ai/blog/introducing-haystack-2-beta-and-advent) or see [Haystack 2.0 Beta Documentation](https://docs.haystack.deepset.ai/v2.0/docs).\n",
        "\n",
        "## Overview\n",
        "This tutorial demonstrates how to use Haystack 2.0-Beta's advanced [looping pipelines](https://docs.haystack.deepset.ai/v2.0/docs/pipelines#loops) with LLMs for more dynamic and flexible data processing. You'll learn how to extract structured data from unstructured data using an LLM, and to validate the generated output against a predefined schema.\n",
        "\n",
        "This tutorial uses `gpt-3.5-turbo` to change unstructured passages into JSON outputs that follow the [Pydantic](https://github.com/pydantic/pydantic) schema. It uses a custom OutputValidator component to validate the JSON and loop back to make corrections, if necessary."
      ]
    },
    {
      "cell_type": "markdown",
      "metadata": {
        "id": "jmiAHh1oGsKI"
      },
      "source": [
        "## Preparing the Colab Environment\n",
        "\n",
        "Enable the debug mode of logging:"
      ]
    },
    {
      "cell_type": "code",
      "execution_count": 1,
      "metadata": {
        "id": "Vor9IHuNRvEh"
      },
      "outputs": [],
      "source": [
        "import logging\n",
        "\n",
        "logging.basicConfig()\n",
        "logging.getLogger(\"canals.pipeline.pipeline\").setLevel(logging.DEBUG)"
      ]
    },
    {
      "cell_type": "markdown",
      "metadata": {
        "id": "ljbWiyJkKiPw"
      },
      "source": [
        "## Installing Dependencies\n",
        "Install Haystack 2.0 Beta and [colorama](https://pypi.org/project/colorama/) with pip:"
      ]
    },
    {
      "cell_type": "code",
      "execution_count": 2,
      "metadata": {
        "colab": {
          "base_uri": "https://localhost:8080/"
        },
        "id": "kcc1AlLQd_jI",
        "outputId": "0d0e17d6-d23f-4553-a07b-3774dfb2c1da"
      },
      "outputs": [
        {
          "output_type": "stream",
          "name": "stdout",
          "text": [
            "Requirement already satisfied: haystack-ai in /usr/local/lib/python3.10/dist-packages (2.0.0b8)\n",
            "Requirement already satisfied: boilerpy3 in /usr/local/lib/python3.10/dist-packages (from haystack-ai) (1.0.7)\n",
            "Requirement already satisfied: haystack-bm25 in /usr/local/lib/python3.10/dist-packages (from haystack-ai) (1.0.2)\n",
            "Requirement already satisfied: jinja2 in /usr/local/lib/python3.10/dist-packages (from haystack-ai) (3.1.3)\n",
            "Requirement already satisfied: lazy-imports in /usr/local/lib/python3.10/dist-packages (from haystack-ai) (0.3.1)\n",
            "Requirement already satisfied: more-itertools in /usr/local/lib/python3.10/dist-packages (from haystack-ai) (10.1.0)\n",
            "Requirement already satisfied: networkx in /usr/local/lib/python3.10/dist-packages (from haystack-ai) (3.2.1)\n",
            "Requirement already satisfied: openai>=1.1.0 in /usr/local/lib/python3.10/dist-packages (from haystack-ai) (1.12.0)\n",
            "Requirement already satisfied: pandas in /usr/local/lib/python3.10/dist-packages (from haystack-ai) (1.5.3)\n",
            "Requirement already satisfied: posthog in /usr/local/lib/python3.10/dist-packages (from haystack-ai) (3.4.2)\n",
            "Requirement already satisfied: pyyaml in /usr/local/lib/python3.10/dist-packages (from haystack-ai) (6.0.1)\n",
            "Requirement already satisfied: tenacity in /usr/local/lib/python3.10/dist-packages (from haystack-ai) (8.2.3)\n",
            "Requirement already satisfied: tqdm in /usr/local/lib/python3.10/dist-packages (from haystack-ai) (4.66.2)\n",
            "Requirement already satisfied: typing-extensions in /usr/local/lib/python3.10/dist-packages (from haystack-ai) (4.9.0)\n",
            "Requirement already satisfied: anyio<5,>=3.5.0 in /usr/local/lib/python3.10/dist-packages (from openai>=1.1.0->haystack-ai) (3.7.1)\n",
            "Requirement already satisfied: distro<2,>=1.7.0 in /usr/lib/python3/dist-packages (from openai>=1.1.0->haystack-ai) (1.7.0)\n",
            "Requirement already satisfied: httpx<1,>=0.23.0 in /usr/local/lib/python3.10/dist-packages (from openai>=1.1.0->haystack-ai) (0.27.0)\n",
            "Requirement already satisfied: pydantic<3,>=1.9.0 in /usr/local/lib/python3.10/dist-packages (from openai>=1.1.0->haystack-ai) (2.6.1)\n",
            "Requirement already satisfied: sniffio in /usr/local/lib/python3.10/dist-packages (from openai>=1.1.0->haystack-ai) (1.3.0)\n",
            "Requirement already satisfied: numpy in /usr/local/lib/python3.10/dist-packages (from haystack-bm25->haystack-ai) (1.25.2)\n",
            "Requirement already satisfied: MarkupSafe>=2.0 in /usr/local/lib/python3.10/dist-packages (from jinja2->haystack-ai) (2.1.5)\n",
            "Requirement already satisfied: python-dateutil>=2.8.1 in /usr/local/lib/python3.10/dist-packages (from pandas->haystack-ai) (2.8.2)\n",
            "Requirement already satisfied: pytz>=2020.1 in /usr/local/lib/python3.10/dist-packages (from pandas->haystack-ai) (2023.4)\n",
            "Requirement already satisfied: requests<3.0,>=2.7 in /usr/local/lib/python3.10/dist-packages (from posthog->haystack-ai) (2.31.0)\n",
            "Requirement already satisfied: six>=1.5 in /usr/local/lib/python3.10/dist-packages (from posthog->haystack-ai) (1.16.0)\n",
            "Requirement already satisfied: monotonic>=1.5 in /usr/local/lib/python3.10/dist-packages (from posthog->haystack-ai) (1.6)\n",
            "Requirement already satisfied: backoff>=1.10.0 in /usr/local/lib/python3.10/dist-packages (from posthog->haystack-ai) (2.2.1)\n",
            "Requirement already satisfied: idna>=2.8 in /usr/local/lib/python3.10/dist-packages (from anyio<5,>=3.5.0->openai>=1.1.0->haystack-ai) (3.6)\n",
            "Requirement already satisfied: exceptiongroup in /usr/local/lib/python3.10/dist-packages (from anyio<5,>=3.5.0->openai>=1.1.0->haystack-ai) (1.2.0)\n",
            "Requirement already satisfied: certifi in /usr/local/lib/python3.10/dist-packages (from httpx<1,>=0.23.0->openai>=1.1.0->haystack-ai) (2024.2.2)\n",
            "Requirement already satisfied: httpcore==1.* in /usr/local/lib/python3.10/dist-packages (from httpx<1,>=0.23.0->openai>=1.1.0->haystack-ai) (1.0.4)\n",
            "Requirement already satisfied: h11<0.15,>=0.13 in /usr/local/lib/python3.10/dist-packages (from httpcore==1.*->httpx<1,>=0.23.0->openai>=1.1.0->haystack-ai) (0.14.0)\n",
            "Requirement already satisfied: annotated-types>=0.4.0 in /usr/local/lib/python3.10/dist-packages (from pydantic<3,>=1.9.0->openai>=1.1.0->haystack-ai) (0.6.0)\n",
            "Requirement already satisfied: pydantic-core==2.16.2 in /usr/local/lib/python3.10/dist-packages (from pydantic<3,>=1.9.0->openai>=1.1.0->haystack-ai) (2.16.2)\n",
            "Requirement already satisfied: charset-normalizer<4,>=2 in /usr/local/lib/python3.10/dist-packages (from requests<3.0,>=2.7->posthog->haystack-ai) (3.3.2)\n",
            "Requirement already satisfied: urllib3<3,>=1.21.1 in /usr/local/lib/python3.10/dist-packages (from requests<3.0,>=2.7->posthog->haystack-ai) (2.0.7)\n",
            "Requirement already satisfied: colorama in /usr/local/lib/python3.10/dist-packages (0.4.6)\n",
            "Requirement already satisfied: google-ai-haystack in /usr/local/lib/python3.10/dist-packages (0.2.0)\n",
            "Requirement already satisfied: google-generativeai>=0.3.1 in /usr/local/lib/python3.10/dist-packages (from google-ai-haystack) (0.3.2)\n",
            "Requirement already satisfied: haystack-ai in /usr/local/lib/python3.10/dist-packages (from google-ai-haystack) (2.0.0b8)\n",
            "Requirement already satisfied: google-ai-generativelanguage==0.4.0 in /usr/local/lib/python3.10/dist-packages (from google-generativeai>=0.3.1->google-ai-haystack) (0.4.0)\n",
            "Requirement already satisfied: google-auth in /usr/local/lib/python3.10/dist-packages (from google-generativeai>=0.3.1->google-ai-haystack) (2.27.0)\n",
            "Requirement already satisfied: google-api-core in /usr/local/lib/python3.10/dist-packages (from google-generativeai>=0.3.1->google-ai-haystack) (2.11.1)\n",
            "Requirement already satisfied: typing-extensions in /usr/local/lib/python3.10/dist-packages (from google-generativeai>=0.3.1->google-ai-haystack) (4.9.0)\n",
            "Requirement already satisfied: protobuf in /usr/local/lib/python3.10/dist-packages (from google-generativeai>=0.3.1->google-ai-haystack) (3.20.3)\n",
            "Requirement already satisfied: tqdm in /usr/local/lib/python3.10/dist-packages (from google-generativeai>=0.3.1->google-ai-haystack) (4.66.2)\n",
            "Requirement already satisfied: proto-plus<2.0.0dev,>=1.22.3 in /usr/local/lib/python3.10/dist-packages (from google-ai-generativelanguage==0.4.0->google-generativeai>=0.3.1->google-ai-haystack) (1.23.0)\n",
            "Requirement already satisfied: boilerpy3 in /usr/local/lib/python3.10/dist-packages (from haystack-ai->google-ai-haystack) (1.0.7)\n",
            "Requirement already satisfied: haystack-bm25 in /usr/local/lib/python3.10/dist-packages (from haystack-ai->google-ai-haystack) (1.0.2)\n",
            "Requirement already satisfied: jinja2 in /usr/local/lib/python3.10/dist-packages (from haystack-ai->google-ai-haystack) (3.1.3)\n",
            "Requirement already satisfied: lazy-imports in /usr/local/lib/python3.10/dist-packages (from haystack-ai->google-ai-haystack) (0.3.1)\n",
            "Requirement already satisfied: more-itertools in /usr/local/lib/python3.10/dist-packages (from haystack-ai->google-ai-haystack) (10.1.0)\n",
            "Requirement already satisfied: networkx in /usr/local/lib/python3.10/dist-packages (from haystack-ai->google-ai-haystack) (3.2.1)\n",
            "Requirement already satisfied: openai>=1.1.0 in /usr/local/lib/python3.10/dist-packages (from haystack-ai->google-ai-haystack) (1.12.0)\n",
            "Requirement already satisfied: pandas in /usr/local/lib/python3.10/dist-packages (from haystack-ai->google-ai-haystack) (1.5.3)\n",
            "Requirement already satisfied: posthog in /usr/local/lib/python3.10/dist-packages (from haystack-ai->google-ai-haystack) (3.4.2)\n",
            "Requirement already satisfied: pyyaml in /usr/local/lib/python3.10/dist-packages (from haystack-ai->google-ai-haystack) (6.0.1)\n",
            "Requirement already satisfied: tenacity in /usr/local/lib/python3.10/dist-packages (from haystack-ai->google-ai-haystack) (8.2.3)\n",
            "Requirement already satisfied: anyio<5,>=3.5.0 in /usr/local/lib/python3.10/dist-packages (from openai>=1.1.0->haystack-ai->google-ai-haystack) (3.7.1)\n",
            "Requirement already satisfied: distro<2,>=1.7.0 in /usr/lib/python3/dist-packages (from openai>=1.1.0->haystack-ai->google-ai-haystack) (1.7.0)\n",
            "Requirement already satisfied: httpx<1,>=0.23.0 in /usr/local/lib/python3.10/dist-packages (from openai>=1.1.0->haystack-ai->google-ai-haystack) (0.27.0)\n",
            "Requirement already satisfied: pydantic<3,>=1.9.0 in /usr/local/lib/python3.10/dist-packages (from openai>=1.1.0->haystack-ai->google-ai-haystack) (2.6.1)\n",
            "Requirement already satisfied: sniffio in /usr/local/lib/python3.10/dist-packages (from openai>=1.1.0->haystack-ai->google-ai-haystack) (1.3.0)\n",
            "Requirement already satisfied: googleapis-common-protos<2.0.dev0,>=1.56.2 in /usr/local/lib/python3.10/dist-packages (from google-api-core->google-generativeai>=0.3.1->google-ai-haystack) (1.62.0)\n",
            "Requirement already satisfied: requests<3.0.0.dev0,>=2.18.0 in /usr/local/lib/python3.10/dist-packages (from google-api-core->google-generativeai>=0.3.1->google-ai-haystack) (2.31.0)\n",
            "Requirement already satisfied: cachetools<6.0,>=2.0.0 in /usr/local/lib/python3.10/dist-packages (from google-auth->google-generativeai>=0.3.1->google-ai-haystack) (5.3.2)\n",
            "Requirement already satisfied: pyasn1-modules>=0.2.1 in /usr/local/lib/python3.10/dist-packages (from google-auth->google-generativeai>=0.3.1->google-ai-haystack) (0.3.0)\n",
            "Requirement already satisfied: rsa<5,>=3.1.4 in /usr/local/lib/python3.10/dist-packages (from google-auth->google-generativeai>=0.3.1->google-ai-haystack) (4.9)\n",
            "Requirement already satisfied: numpy in /usr/local/lib/python3.10/dist-packages (from haystack-bm25->haystack-ai->google-ai-haystack) (1.25.2)\n",
            "Requirement already satisfied: MarkupSafe>=2.0 in /usr/local/lib/python3.10/dist-packages (from jinja2->haystack-ai->google-ai-haystack) (2.1.5)\n",
            "Requirement already satisfied: python-dateutil>=2.8.1 in /usr/local/lib/python3.10/dist-packages (from pandas->haystack-ai->google-ai-haystack) (2.8.2)\n",
            "Requirement already satisfied: pytz>=2020.1 in /usr/local/lib/python3.10/dist-packages (from pandas->haystack-ai->google-ai-haystack) (2023.4)\n",
            "Requirement already satisfied: six>=1.5 in /usr/local/lib/python3.10/dist-packages (from posthog->haystack-ai->google-ai-haystack) (1.16.0)\n",
            "Requirement already satisfied: monotonic>=1.5 in /usr/local/lib/python3.10/dist-packages (from posthog->haystack-ai->google-ai-haystack) (1.6)\n",
            "Requirement already satisfied: backoff>=1.10.0 in /usr/local/lib/python3.10/dist-packages (from posthog->haystack-ai->google-ai-haystack) (2.2.1)\n",
            "Requirement already satisfied: idna>=2.8 in /usr/local/lib/python3.10/dist-packages (from anyio<5,>=3.5.0->openai>=1.1.0->haystack-ai->google-ai-haystack) (3.6)\n",
            "Requirement already satisfied: exceptiongroup in /usr/local/lib/python3.10/dist-packages (from anyio<5,>=3.5.0->openai>=1.1.0->haystack-ai->google-ai-haystack) (1.2.0)\n",
            "Requirement already satisfied: grpcio<2.0dev,>=1.33.2 in /usr/local/lib/python3.10/dist-packages (from google-api-core->google-generativeai>=0.3.1->google-ai-haystack) (1.60.1)\n",
            "Requirement already satisfied: grpcio-status<2.0.dev0,>=1.33.2 in /usr/local/lib/python3.10/dist-packages (from google-api-core->google-generativeai>=0.3.1->google-ai-haystack) (1.48.2)\n",
            "Requirement already satisfied: certifi in /usr/local/lib/python3.10/dist-packages (from httpx<1,>=0.23.0->openai>=1.1.0->haystack-ai->google-ai-haystack) (2024.2.2)\n",
            "Requirement already satisfied: httpcore==1.* in /usr/local/lib/python3.10/dist-packages (from httpx<1,>=0.23.0->openai>=1.1.0->haystack-ai->google-ai-haystack) (1.0.4)\n",
            "Requirement already satisfied: h11<0.15,>=0.13 in /usr/local/lib/python3.10/dist-packages (from httpcore==1.*->httpx<1,>=0.23.0->openai>=1.1.0->haystack-ai->google-ai-haystack) (0.14.0)\n",
            "Requirement already satisfied: pyasn1<0.6.0,>=0.4.6 in /usr/local/lib/python3.10/dist-packages (from pyasn1-modules>=0.2.1->google-auth->google-generativeai>=0.3.1->google-ai-haystack) (0.5.1)\n",
            "Requirement already satisfied: annotated-types>=0.4.0 in /usr/local/lib/python3.10/dist-packages (from pydantic<3,>=1.9.0->openai>=1.1.0->haystack-ai->google-ai-haystack) (0.6.0)\n",
            "Requirement already satisfied: pydantic-core==2.16.2 in /usr/local/lib/python3.10/dist-packages (from pydantic<3,>=1.9.0->openai>=1.1.0->haystack-ai->google-ai-haystack) (2.16.2)\n",
            "Requirement already satisfied: charset-normalizer<4,>=2 in /usr/local/lib/python3.10/dist-packages (from requests<3.0.0.dev0,>=2.18.0->google-api-core->google-generativeai>=0.3.1->google-ai-haystack) (3.3.2)\n",
            "Requirement already satisfied: urllib3<3,>=1.21.1 in /usr/local/lib/python3.10/dist-packages (from requests<3.0.0.dev0,>=2.18.0->google-api-core->google-generativeai>=0.3.1->google-ai-haystack) (2.0.7)\n"
          ]
        }
      ],
      "source": [
        "%%bash\n",
        "\n",
        "pip install haystack-ai\n",
        "pip install colorama\n",
        "pip install google-ai-haystack"
      ]
    },
    {
      "cell_type": "markdown",
      "metadata": {
        "id": "nTA5fdvCLMKD"
      },
      "source": [
        "### Enabling Telemetry\n",
        "\n",
        "Enable telemetry to let us know you're using this tutorial. (You can always opt out by commenting out this line). For details, see [Telemetry](https://docs.haystack.deepset.ai/docs/telemetry)."
      ]
    },
    {
      "cell_type": "code",
      "execution_count": 3,
      "metadata": {
        "id": "Apay3QSQLKdM"
      },
      "outputs": [],
      "source": [
        "# from haystack.telemetry import tutorial_running\n",
        "\n",
        "# tutorial_running(28)"
      ]
    },
    {
      "cell_type": "markdown",
      "metadata": {
        "id": "Cmjfa8CiCeFl"
      },
      "source": [
        "## Defining a Schema to Parse the JSON Object\n",
        "\n",
        "Define a simple JSON schema for the data you want to extract from a text passsage using the LLM. As the first step, define two [Pydantic models](https://docs.pydantic.dev/1.10/usage/models/), `City` and `CitiesData`, with suitable fields and types."
      ]
    },
    {
      "cell_type": "code",
      "execution_count": 4,
      "metadata": {
        "id": "xwKrDOOGdaAz"
      },
      "outputs": [],
      "source": [
        "from typing import List, Dict, Union\n",
        "from pydantic import BaseModel\n",
        "\n",
        "\n",
        "class City(BaseModel):\n",
        "    name: str\n",
        "    country: str\n",
        "    population: int\n",
        "\n",
        "\n",
        "class CitiesData(BaseModel):\n",
        "    cities: List[City]"
      ]
    },
    {
      "cell_type": "markdown",
      "metadata": {
        "id": "zv-6-l_PCeFl"
      },
      "source": [
        "> You can change these models according to the format you wish to extract from the text."
      ]
    },
    {
      "cell_type": "markdown",
      "metadata": {
        "id": "ouk1mAOUCeFl"
      },
      "source": [
        "Then, generate a JSON schema from Pydantic models using `schema_json()`. You will later on use this schema in the prompt to instruct the LLM.\n",
        "\n",
        "To learn more about the JSON schemas, visit [Pydantic Schema](https://docs.pydantic.dev/1.10/usage/schema/).  "
      ]
    },
    {
      "cell_type": "code",
      "execution_count": 5,
      "metadata": {
        "id": "8Lg9_72jCeFl"
      },
      "outputs": [],
      "source": [
        "json_schema = CitiesData.schema_json(indent=2)"
      ]
    },
    {
      "cell_type": "markdown",
      "metadata": {
        "id": "KvNhg0bP7kfg"
      },
      "source": [
        "## Creating a Custom Component: OutputValidator\n",
        "\n",
        "`OutputValidator` is a custom component that validates if the JSON object the LLM generates complies with the provided [Pydantic model](https://docs.pydantic.dev/1.10/usage/models/). If it doesn't, OutputValidator returns an error message along with the incorrect JSON object to get it fixed in the next loop.\n",
        "\n",
        "For more details about custom components, see [Creating Custom Components](https://docs.haystack.deepset.ai/v2.0/docs/custom-components)."
      ]
    },
    {
      "cell_type": "code",
      "execution_count": 6,
      "metadata": {
        "id": "yr6D8RN2d7Vy"
      },
      "outputs": [],
      "source": [
        "import json\n",
        "import random\n",
        "import pydantic\n",
        "from pydantic import ValidationError\n",
        "from typing import Optional, List\n",
        "from colorama import Fore\n",
        "from haystack import component\n",
        "\n",
        "# Define the component input parameters\n",
        "@component\n",
        "class OutputValidator:\n",
        "    def __init__(self, pydantic_model: pydantic.BaseModel):\n",
        "        self.pydantic_model = pydantic_model\n",
        "        self.iteration_counter = 0\n",
        "\n",
        "    # Define the component output\n",
        "    @component.output_types(valid_replies=List[Union[str, Dict[str, str]]], invalid_replies=Optional[List[str]], error_message=Optional[str])\n",
        "    def run(self, replies: List[Union[str, Dict[str, str]]]):\n",
        "\n",
        "        self.iteration_counter += 1\n",
        "\n",
        "        ## Try to parse the LLM's reply ##\n",
        "        # If the LLM's reply is a valid object, return `\"valid_replies\"`\n",
        "        try:\n",
        "            print('Replies: ', replies)\n",
        "            output_dict = json.loads(replies[0])\n",
        "            self.pydantic_model.parse_obj(output_dict)\n",
        "            print(\n",
        "                Fore.GREEN\n",
        "                + f\"OutputValidator at Iteration {self.iteration_counter}: Valid JSON from LLM - No need for looping: {replies[0]}\"\n",
        "            )\n",
        "            return {\"valid_replies\": replies}\n",
        "\n",
        "        # If the LLM's reply is corrupted or not valid, return \"invalid_replies\" and the \"error_message\" for LLM to try again\n",
        "        except (ValueError, ValidationError) as e:\n",
        "            print(\n",
        "                Fore.RED\n",
        "                + f\"OutputValidator at Iteration {self.iteration_counter}: Invalid JSON from LLM - Let's try again.\\n\"\n",
        "                f\"Output from LLM:\\n {replies[0]} \\n\"\n",
        "                f\"Error from OutputValidator: {e}\"\n",
        "            )\n",
        "            return {\"invalid_replies\": replies, \"error_message\": str(e)}"
      ]
    },
    {
      "cell_type": "markdown",
      "metadata": {
        "id": "vQ_TfSBkCeFm"
      },
      "source": [
        "Then, create an OutputValidator instance with `CitiesData` that you have created before."
      ]
    },
    {
      "cell_type": "code",
      "execution_count": 7,
      "metadata": {
        "id": "bhPCLCBCCeFm"
      },
      "outputs": [],
      "source": [
        "output_validator = OutputValidator(pydantic_model=CitiesData)"
      ]
    },
    {
      "cell_type": "markdown",
      "metadata": {
        "id": "xcIWKjW4k42r"
      },
      "source": [
        "## Creating the Prompt\n",
        "\n",
        "Write instructions for the LLM for converting a passage into a JSON format. Ensure the instructions explain how to identify and correct errors if the JSON doesn't match the required schema. Once you create the prompt, initialize PromptBuilder to use it.  \n",
        "\n",
        "For information about Jinja2 template and PromptBuilder, see [PromptBuilder](https://docs.haystack.deepset.ai/v2.0/docs/promptbuilder)."
      ]
    },
    {
      "cell_type": "code",
      "execution_count": 8,
      "metadata": {
        "id": "ohPpNALjdVKt"
      },
      "outputs": [],
      "source": [
        "from haystack.components.builders import PromptBuilder\n",
        "\n",
        "prompt_template = \"\"\"\n",
        "Create a JSON object from the information present in this passage: {{passage}}.\n",
        "Only use information that is present in the passage. Follow this JSON schema, but only return the actual instances without any additional schema definition:\n",
        "{{schema}}\n",
        "Make sure your response is a dict and not a list.\n",
        "{% if invalid_replies and error_message %}\n",
        "  You already created the following output in a previous attempt: {{invalid_replies}}\n",
        "  However, this doesn't comply with the format requirements from above and triggered this Python exception: {{error_message}}\n",
        "  Correct the output and try again. Just return the corrected output without any extra explanations.\n",
        "{% endif %}\n",
        "\"\"\"\n",
        "prompt_builder = PromptBuilder(template=prompt_template)"
      ]
    },
    {
      "cell_type": "markdown",
      "metadata": {
        "id": "KM9-Zq2FL7Nn"
      },
      "source": [
        "## Initalizing the Generator\n",
        "\n",
        "[OpenAIGenerator](https://docs.haystack.deepset.ai/v2.0/docs/openaigenerator) generates\n",
        "text using OpenAI's `gpt-3.5-turbo` model by default. Set the `OPENAI_API_KEY` variable and provide a model name to the Generator."
      ]
    },
    {
      "cell_type": "code",
      "source": [],
      "metadata": {
        "id": "Zd8LG2yJgsz9"
      },
      "execution_count": 8,
      "outputs": []
    },
    {
      "cell_type": "code",
      "execution_count": 9,
      "metadata": {
        "id": "Z4cQteIgunUR"
      },
      "outputs": [],
      "source": [
        "import os\n",
        "from getpass import getpass\n",
        "from haystack_integrations.components.generators.google_ai import GoogleAIGeminiGenerator\n",
        "\n",
        "\n",
        "# from haystack.components.generators.google_ai import GoogleAIGeminiGenerator\n",
        "from google.colab import userdata\n",
        "\n",
        "os.environ[\"GOOGLE_API_KEY\"] = userdata.get('gemini_key')\n",
        "generator = GoogleAIGeminiGenerator(model=\"gemini-pro\")"
      ]
    },
    {
      "cell_type": "markdown",
      "metadata": {
        "id": "zbotIOgXHkC5"
      },
      "source": [
        "## Building the Pipeline\n",
        "\n",
        "Add all components to your pipeline and connect them. Add connections from `output_validator` back to the `prompt_builder` for cases where the produced JSON doesn't comply with the JSON schema. Set `max_loops_allowed` to avoid infinite looping."
      ]
    },
    {
      "cell_type": "code",
      "execution_count": 10,
      "metadata": {
        "id": "eFglN9YEv-1W",
        "colab": {
          "base_uri": "https://localhost:8080/",
          "height": 688
        },
        "outputId": "76fe82ba-99e3-49dc-e0dc-e3ed157d2caa"
      },
      "outputs": [
        {
          "output_type": "display_data",
          "data": {
            "image/jpeg": "[encoded data removed]",
            "text/plain": [
              "<IPython.core.display.Image object>"
            ]
          },
          "metadata": {}
        },
        {
          "output_type": "execute_result",
          "data": {
            "text/plain": []
          },
          "metadata": {},
          "execution_count": 10
        }
      ],
      "source": [
        "from haystack import Pipeline\n",
        "\n",
        "pipeline = Pipeline(max_loops_allowed=5)\n",
        "\n",
        "# Add components to your pipeline\n",
        "pipeline.add_component(instance=prompt_builder, name=\"prompt_builder\")\n",
        "pipeline.add_component(instance=generator, name=\"llm\")\n",
        "pipeline.add_component(instance=output_validator, name=\"output_validator\")\n",
        "\n",
        "# Now, connect the components to each other\n",
        "pipeline.connect(\"prompt_builder\", \"llm\")\n",
        "pipeline.connect(\"llm\", \"output_validator\")\n",
        "# If a component has more than one output or input, explicitly specify the connections:\n",
        "pipeline.connect(\"output_validator.invalid_replies\", \"prompt_builder.invalid_replies\")\n",
        "pipeline.connect(\"output_validator.error_message\", \"prompt_builder.error_message\")"
      ]
    },
    {
      "cell_type": "markdown",
      "metadata": {
        "id": "-UKW5wtIIT7w"
      },
      "source": [
        "### Visualize the Pipeline\n",
        "\n",
        "Draw the pipeline with the [`draw()`](https://docs.haystack.deepset.ai/v2.0/docs/drawing-pipeline-graphs) method to confirm the connections are correct. You can find the diagram in the Files section of this Colab."
      ]
    },
    {
      "cell_type": "code",
      "execution_count": 11,
      "metadata": {
        "id": "RZJg6YHId300"
      },
      "outputs": [],
      "source": [
        "pipeline.draw(\"auto-correct-pipeline.png\")"
      ]
    },
    {
      "cell_type": "markdown",
      "metadata": {
        "id": "kV_kexTjImpo"
      },
      "source": [
        "## Testing the Pipeline\n",
        "\n",
        "Run the pipeline with an example passage that you want to convert into a JSON format and the `json_schema` you have created for `CitiesData`. For the given example passage, the generated JSON object should be like:\n",
        "```json\n",
        "{\n",
        "  \"cities\": [\n",
        "    {\n",
        "      \"name\": \"Berlin\",\n",
        "      \"country\": \"Germany\",\n",
        "      \"population\": 3850809\n",
        "    },\n",
        "    {\n",
        "      \"name\": \"Paris\",\n",
        "      \"country\": \"France\",\n",
        "      \"population\": 2161000\n",
        "    },\n",
        "    {\n",
        "      \"name\": \"Lisbon\",\n",
        "      \"country\": \"Portugal\",\n",
        "      \"population\": 504718\n",
        "    }\n",
        "  ]\n",
        "}\n",
        "```\n",
        "The output of the LLM should be compliant with the `json_schema`. If the LLM doesn't generate the correct JSON object, it will loop back and try again."
      ]
    },
    {
      "cell_type": "code",
      "execution_count": 12,
      "metadata": {
        "colab": {
          "base_uri": "https://localhost:8080/",
          "height": 818
        },
        "id": "yIoMedb6eKia",
        "outputId": "f38e95aa-c1a6-4ed3-f914-21fb16692d59"
      },
      "outputs": [
        {
          "output_type": "stream",
          "name": "stdout",
          "text": [
            "Replies:  ['```\\n{\\n  \"cities\": [\\n    {\\n      \"name\": \"Berlin\",\\n      \"country\": \"Germany\",\\n      \"population\": 3850809\\n    },\\n    {\\n      \"name\": \"Paris\",\\n      \"country\": \"France\",\\n      \"population\": 2161000\\n    },\\n    {\\n      \"name\": \"Lisbon\",\\n      \"country\": \"Portugal\",\\n      \"population\": 504718\\n    }\\n  ]\\n}\\n```']\n",
            "\u001b[31mOutputValidator at Iteration 1: Invalid JSON from LLM - Let's try again.\n",
            "Output from LLM:\n",
            " ```\n",
            "{\n",
            "  \"cities\": [\n",
            "    {\n",
            "      \"name\": \"Berlin\",\n",
            "      \"country\": \"Germany\",\n",
            "      \"population\": 3850809\n",
            "    },\n",
            "    {\n",
            "      \"name\": \"Paris\",\n",
            "      \"country\": \"France\",\n",
            "      \"population\": 2161000\n",
            "    },\n",
            "    {\n",
            "      \"name\": \"Lisbon\",\n",
            "      \"country\": \"Portugal\",\n",
            "      \"population\": 504718\n",
            "    }\n",
            "  ]\n",
            "}\n",
            "``` \n",
            "Error from OutputValidator: Expecting value: line 1 column 1 (char 0)\n",
            "Replies:  ['{\\n  \"cities\": [\\n    {\\n      \"name\": \"Berlin\",\\n      \"country\": \"Germany\",\\n      \"population\": 3850809\\n    },\\n    {\\n      \"name\": \"Paris\",\\n      \"country\": \"France\",\\n      \"population\": 2161000\\n    },\\n    {\\n      \"name\": \"Lisbon\",\\n      \"country\": \"Portugal\",\\n      \"population\": 504718\\n    }\\n  ]\\n}']\n",
            "\u001b[32mOutputValidator at Iteration 2: Valid JSON from LLM - No need for looping: {\n",
            "  \"cities\": [\n",
            "    {\n",
            "      \"name\": \"Berlin\",\n",
            "      \"country\": \"Germany\",\n",
            "      \"population\": 3850809\n",
            "    },\n",
            "    {\n",
            "      \"name\": \"Paris\",\n",
            "      \"country\": \"France\",\n",
            "      \"population\": 2161000\n",
            "    },\n",
            "    {\n",
            "      \"name\": \"Lisbon\",\n",
            "      \"country\": \"Portugal\",\n",
            "      \"population\": 504718\n",
            "    }\n",
            "  ]\n",
            "}\n"
          ]
        }
      ],
      "source": [
        "passage = \"Berlin is the capital of Germany. It has a population of 3,850,809. Paris, France's capital, has 2.161 million residents. Lisbon is the capital and the largest city of Portugal with the population of 504,718.\"\n",
        "result = pipeline.run({\"prompt_builder\": {\"passage\": passage, \"schema\": json_schema}})"
      ]
    },
    {
      "cell_type": "markdown",
      "metadata": {
        "id": "WWxmPgADS_Fa"
      },
      "source": [
        "> If you encounter `PipelineMaxLoops: Maximum loops count (5) exceeded for component 'prompt_builder'.` error, consider increasing the maximum loop count or simply rerun the pipeline."
      ]
    },
    {
      "cell_type": "markdown",
      "metadata": {
        "id": "eWPawSjgSJAM"
      },
      "source": [
        "### Print the Correct JSON\n",
        "If you didn't get any error, you can now print the corrected JSON."
      ]
    },
    {
      "cell_type": "code",
      "execution_count": 14,
      "metadata": {
        "colab": {
          "base_uri": "https://localhost:8080/"
        },
        "id": "BVO47gXQQnDC",
        "outputId": "e581727c-8acc-453f-dc77-3ee62d74ebfa"
      },
      "outputs": [
        {
          "output_type": "stream",
          "name": "stdout",
          "text": [
            "{'cities': [{'name': 'Berlin', 'country': 'Germany', 'population': 3850809}, {'name': 'Paris', 'country': 'France', 'population': 2161000}, {'name': 'Lisbon', 'country': 'Portugal', 'population': 504718}]}\n"
          ]
        }
      ],
      "source": [
        "valid_reply = result[\"output_validator\"][\"valid_replies\"][0]\n",
        "valid_json = json.loads(valid_reply)\n",
        "print(valid_json)"
      ]
    },
    {
      "cell_type": "markdown",
      "metadata": {
        "id": "Egz_4h2vI_QL"
      },
      "source": [
        "🎉 Congratulations! You've built a system that generates structured JSON out of unstructured text passages, and auto-corrects it by using the looping functionality of Haystack pipelines."
      ]
    }
  ],
  "metadata": {
    "accelerator": "GPU",
    "colab": {
      "gpuType": "T4",
      "provenance": [],
      "include_colab_link": true
    },
    "kernelspec": {
      "display_name": "Python 3",
      "name": "python3"
    },
    "language_info": {
      "name": "python"
    }
  },
  "nbformat": 4,
  "nbformat_minor": 0
}